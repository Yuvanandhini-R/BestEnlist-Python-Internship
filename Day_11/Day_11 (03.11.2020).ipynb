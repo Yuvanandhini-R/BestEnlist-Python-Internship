{
 "cells": [
  {
   "cell_type": "markdown",
   "metadata": {},
   "source": [
    "<img src=\"http://bestenlist.co.in/img/logo2.png\" alt=\"BestEnlist Logo\" style=\"height:100px\">\n",
    "<img src=\"https://www.python.org/static/img/python-logo.png\" alt=\"Python Logo\" style=\"height:100px\">\n",
    "<img src=\"https://jupyter.org/assets/nav_logo.svg\" alt=\"Jupyter Notebook Logo\" style=\"height:100px\">\n",
    "\n",
    "<hr />\n",
    "\n",
    "\n",
    "# DAY 11 - TASK\n",
    "\n",
    "# Map, Filter, Zip, Reduce"
   ]
  },
  {
   "cell_type": "markdown",
   "metadata": {},
   "source": [
    "\n",
    "<p>●\tmap() function returns a map object(which is an iterator) of the results after applying the given function to each item of a given iterable (list, tuple etc.)</p>\n",
    "\n",
    "<pre>map(fun, iter)</pre>\n",
    "\n",
    "<p>●\tIt is a function to which map passes each element of given iterable.\n",
    "iter : It is a iterable which is to be mapped</p>\n",
    "\n",
    "<pre>def addition(n): \n",
    "    return n + n\n",
    "    #We double all numbers using map()\n",
    "    numbers = (1, 2, 3, 4) \n",
    "    result = map(addition, numbers) \n",
    "    print(list(result))</pre> \n",
    "\n",
    "\n",
    "<p>●\tmap using list of strings</p>\n",
    "\n",
    "<pre>List of strings \n",
    "l = ['sat', 'bat', 'cat', 'mat'] \n",
    "  \n",
    "map() can listify the list of strings individually \n",
    "test = list(map(list, l)) \n",
    "print(test)</pre>\n",
    " \n",
    "\n",
    "\n",
    "\n",
    "<p>●\tThe filter() method filters the given sequence with the help of a function that tests each element in the sequence to be true or not.</p>\n",
    "\n",
    "\n",
    "<p>function that filters vowels</p>\n",
    "\n",
    "<pre>\n",
    "def fun(variable): \n",
    "    letters = ['a', 'e', 'i', 'o', 'u'] \n",
    "    if (variable in letters): \n",
    "        return True\n",
    "    else: \n",
    "        return False</pre>\n",
    "  \n",
    "  \n",
    "<b>sequence</b>\n",
    "\n",
    "<pre>\n",
    "sequence = ['g', 'e', 'e', 'j', 'k', 's', 'p', 'r'] \n",
    "</pre>\n",
    "\n",
    "<b>using filter function</b>\n",
    "\n",
    "<pre>\n",
    "filtered = filter(fun, sequence)\n",
    "print('The filtered letters are:') \n",
    "for s in filtered: \n",
    "    print(s)\n",
    "</pre>\n",
    "\n",
    "\n",
    "<p>●\tThe zip() function returns a zip object, which is an iterator of tuples where the first item in each passed iterator is paired together, and then the second item in each passed iterator are paired together</p>\n",
    "\n",
    "<pre>\n",
    "a = (\"John\", \"Charles\", \"Mike\")\n",
    "b = (\"Jenny\", \"Christy\", \"Monica\")\n",
    "\n",
    "x = zip(a, b)\n",
    "</pre>\n",
    "\n",
    "<p>●\tThe reduce(fun,seq) function is used to apply a particular function passed in its argument to all of the list elements mentioned in the sequence passed along.This function is defined in “functools” module.</p>\n",
    "\n",
    "1.\tAt first step, first two elements of sequence are picked and the result is obtained.\n",
    "2.\tNext step is to apply the same function to the previously attained result and the number just succeeding the second element and the result is again stored.\n",
    "3.\tThis process continues till no more elements are left in the container.\n",
    "4.\tThe final returned result is returned and printed on console.\n",
    "\n",
    "\n",
    "<pre>\n",
    "import functools \n",
    "  \n",
    "lis = [ 1 , 3, 5, 6, 2, ] \n",
    "\n",
    "print (\"The sum of the list elements is : \",end=\"\") \n",
    "print (functools.reduce(lambda a,b : a+b,lis)) \n",
    "  \n",
    "print (\"The maximum element of the list is : \",end=\"\") \n",
    "print (functools.reduce(lambda a,b : a if a > b else b,lis))\n",
    "</pre>\n"
   ]
  },
  {
   "cell_type": "markdown",
   "metadata": {},
   "source": [
    "\n",
    "<b>Exercise:</b>\n",
    "\n",
    "<b>1.\tWrite a program using zip() function and list() function, create a merged list of tuples from the two lists given.</b>\n"
   ]
  },
  {
   "cell_type": "code",
   "execution_count": 19,
   "metadata": {},
   "outputs": [
    {
     "name": "stdout",
     "output_type": "stream",
     "text": [
      "0 1 2 3\n",
      "3 2 1 0\n",
      "[(0, 3), (1, 2), (2, 1), (3, 0)]\n"
     ]
    }
   ],
   "source": [
    "list1 = map(lambda x: int(x), input().split())\n",
    "list2 = map(lambda x: int(x), input().split())\n",
    "\n",
    "output = list(zip(list1, list2))\n",
    "print(output)"
   ]
  },
  {
   "cell_type": "markdown",
   "metadata": {},
   "source": [
    "<b>2.\tFirst create a range from 1 to 8. Then using zip, merge the given list and the range together to create a new list of tuples.</b>"
   ]
  },
  {
   "cell_type": "code",
   "execution_count": 20,
   "metadata": {},
   "outputs": [
    {
     "name": "stdout",
     "output_type": "stream",
     "text": [
      "8 7 6 5 4 3 2 1\n",
      "[(1, 8), (2, 7), (3, 6), (4, 5), (5, 4), (6, 3), (7, 2), (8, 1)]\n"
     ]
    }
   ],
   "source": [
    "arr = map(lambda x: int(x), input().split())\n",
    "\n",
    "output = list(zip(range(1, 9), arr))\n",
    "print(output)"
   ]
  },
  {
   "cell_type": "markdown",
   "metadata": {},
   "source": [
    "<b>3.\tUsing sorted() function, sort the list in ascending order.</b>"
   ]
  },
  {
   "cell_type": "code",
   "execution_count": 9,
   "metadata": {},
   "outputs": [
    {
     "name": "stdout",
     "output_type": "stream",
     "text": [
      "Sorted list: ['a', 'e', 'i', 'o', 'u']\n"
     ]
    }
   ],
   "source": [
    "vowels = ['e', 'a', 'u', 'o', 'i']\n",
    "\n",
    "vowels.sort()\n",
    "\n",
    "print('Sorted list:', vowels)"
   ]
  },
  {
   "cell_type": "markdown",
   "metadata": {},
   "source": [
    "<b>4.\tWrite a program using filter function, filter the even numbers so that only odd numbers are passed to the new list.</b>"
   ]
  },
  {
   "cell_type": "code",
   "execution_count": 16,
   "metadata": {},
   "outputs": [
    {
     "name": "stdout",
     "output_type": "stream",
     "text": [
      "0 1 2 3 4 5 6 7 8 9 10 11 12 13\n",
      "[0, 2, 4, 6, 8, 10, 12]\n"
     ]
    }
   ],
   "source": [
    "arr = map(lambda x: int(x), input().split())\n",
    "\n",
    "output = list(filter(lambda x: x % 2 == 0, arr))\n",
    "print(output)"
   ]
  },
  {
   "cell_type": "markdown",
   "metadata": {},
   "source": [
    "\n",
    "<hr />\n",
    "\n",
    "\n",
    "# The End\n",
    "\n",
    "<p>I've successfully completed Day 11's notes & exercises</p>\n",
    "\n",
    "<hr />\n",
    "\n",
    "\n",
    "# THANK YOU!\n",
    "\n",
    "<p>Check Out My Repository At <a href=\"https://github.com/Yuvanandhini-R/BestEnlist-Python-Internship\">https://github.com/Yuvanandhini-R/BestEnlist-Python-Internship</a></p>\n",
    "\n",
    "<p>Check Out My LinkedIn Page At <a href=\"https://www.linkedin.com/in/yuvanandhini-t-r-5384901a4/\">https://www.linkedin.com/in/yuvanandhini-t-r-5384901a4/</a></p>\n"
   ]
  }
 ],
 "metadata": {
  "kernelspec": {
   "display_name": "Python 3",
   "language": "python",
   "name": "python3"
  },
  "language_info": {
   "codemirror_mode": {
    "name": "ipython",
    "version": 3
   },
   "file_extension": ".py",
   "mimetype": "text/x-python",
   "name": "python",
   "nbconvert_exporter": "python",
   "pygments_lexer": "ipython3",
   "version": "3.8.5"
  }
 },
 "nbformat": 4,
 "nbformat_minor": 4
}
