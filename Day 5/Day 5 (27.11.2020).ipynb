{
 "cells": [
  {
   "cell_type": "markdown",
   "metadata": {},
   "source": [
    "<img src=\"http://bestenlist.co.in/img/logo2.png\" alt=\"BestEnlist Logo\" style=\"height:100px\">\n",
    "<img src=\"https://www.python.org/static/img/python-logo.png\" alt=\"Python Logo\" style=\"height:100px\">\n",
    "<img src=\"https://jupyter.org/assets/nav_logo.svg\" alt=\"Jupyter Notebook Logo\" style=\"height:100px\">\n",
    "\n",
    "<hr />\n",
    "\n",
    "# Day 5 – FUNCTIONS\n",
    "\n",
    "\n",
    "<ul>\n",
    "<li>A function is a set of statements that take inputs, do some specific computation and produces output. The idea is to put some commonly or repeatedly done task together and make a function, so that instead of writing the same code again and again for different inputs, we can call the function.</li>\n",
    "</ul>    "
   ]
  },
  {
   "cell_type": "code",
   "execution_count": 1,
   "metadata": {},
   "outputs": [
    {
     "name": "stdout",
     "output_type": "stream",
     "text": [
      "[20, 2, 3, 4, 5]\n"
     ]
    }
   ],
   "source": [
    "def myFun(num): \n",
    "    num[0] = 20\n",
    "  \n",
    "list = [1, 2, 3, 4, 5]  \n",
    "myFun(list)\n",
    "print(list) #list will be changed after the function call"
   ]
  },
  {
   "cell_type": "markdown",
   "metadata": {},
   "source": [
    "<ul>\n",
    "<li>A function is defined using the def keyword</li>\n",
    "</ul> "
   ]
  },
  {
   "cell_type": "code",
   "execution_count": 2,
   "metadata": {},
   "outputs": [],
   "source": [
    "def my_function():\n",
    "    print(\"Hello from a function\")"
   ]
  },
  {
   "cell_type": "markdown",
   "metadata": {},
   "source": [
    "<ul>\n",
    "<li>Calling a function is easy as to call only the function name</li>\n",
    "</ul> "
   ]
  },
  {
   "cell_type": "code",
   "execution_count": 3,
   "metadata": {},
   "outputs": [],
   "source": [
    "def my_function():\n",
    "    print(\"Hello from a function\")"
   ]
  },
  {
   "cell_type": "markdown",
   "metadata": {},
   "source": [
    "<ul>\n",
    "<li>Arguments are specified after the function name, inside the parentheses. You can add n number of  arguments</li>\n",
    "</ul> "
   ]
  },
  {
   "cell_type": "code",
   "execution_count": 4,
   "metadata": {},
   "outputs": [
    {
     "name": "stdout",
     "output_type": "stream",
     "text": [
      "Player name is Dhoni\n",
      "Player name is Raina\n",
      "Player name is Sam\n"
     ]
    }
   ],
   "source": [
    "def csk(fname):\n",
    "  print('Player name is ' + fname)\n",
    "\n",
    "csk(\"Dhoni\")\n",
    "csk(\"Raina\")\n",
    "csk(\"Sam\")"
   ]
  },
  {
   "cell_type": "markdown",
   "metadata": {},
   "source": [
    "<b>A parameter is the variable listed inside the parentheses in the function definition.</b>\n",
    "\n",
    "<b>An Argument is the value that is sent to the function when it is called.</b>"
   ]
  },
  {
   "cell_type": "markdown",
   "metadata": {},
   "source": [
    "<ul>\n",
    "<li>if your function expects 2 arguments, you have to call the function with 2 arguments, not more, and not less</li>\n",
    "</ul> "
   ]
  },
  {
   "cell_type": "code",
   "execution_count": 5,
   "metadata": {},
   "outputs": [
    {
     "name": "stdout",
     "output_type": "stream",
     "text": [
      "Dhoni VS Kohli\n"
     ]
    }
   ],
   "source": [
    "def ipl(csk_cap,rcb_cap):\n",
    "    print(csk_cap + ' VS ' + rcb_cap)\n",
    "\n",
    "ipl(\"Dhoni\",'Kohli')"
   ]
  },
  {
   "cell_type": "markdown",
   "metadata": {},
   "source": [
    "<ul>\n",
    "<li>If you do not know how many arguments that will be passed into your function, add a * before the parameter name in the function definition.</li>\n",
    "</ul> "
   ]
  },
  {
   "cell_type": "code",
   "execution_count": 6,
   "metadata": {},
   "outputs": [
    {
     "name": "stdout",
     "output_type": "stream",
     "text": [
      "The youngest member is sam\n"
     ]
    }
   ],
   "source": [
    "def my_function(*team):\n",
    "  print(\"The youngest member is \" + team[0])\n",
    "\n",
    "my_function(\"sam\", \"tom\", \"ben\")"
   ]
  },
  {
   "cell_type": "markdown",
   "metadata": {},
   "source": [
    "<ul>\n",
    "<li>You can also send arguments with the key = value syntax & the order of the arguments does not matter.</li>\n",
    "</ul> "
   ]
  },
  {
   "cell_type": "code",
   "execution_count": 7,
   "metadata": {},
   "outputs": [
    {
     "name": "stdout",
     "output_type": "stream",
     "text": [
      "The youngest child is Sam\n"
     ]
    }
   ],
   "source": [
    "def my_function(child3, child2, child1):\n",
    "  print(\"The youngest child is \" + child1)\n",
    "\n",
    "my_function(child1 = \"Sam\", child2 = \"Ben\", child3 = \"Tom\")\n"
   ]
  },
  {
   "cell_type": "markdown",
   "metadata": {},
   "source": [
    "<ul>\n",
    "<li>If you do not know how many keyword arguments that will be passed into your function, add two asterisk: ** before the parameter name in the function definition.</li>\n",
    "</ul> "
   ]
  },
  {
   "cell_type": "code",
   "execution_count": 8,
   "metadata": {},
   "outputs": [
    {
     "name": "stdout",
     "output_type": "stream",
     "text": [
      "His last player is Deepak\n"
     ]
    }
   ],
   "source": [
    "def my_function(**players):\n",
    "    print(\"His last player is \" + players[\"lplayer\"])\n",
    "    \n",
    "my_function(fplayer = \"Rayudu\", lplayer = \"Deepak\")"
   ]
  },
  {
   "cell_type": "markdown",
   "metadata": {},
   "source": [
    "<ul>\n",
    "<li>To let a function return a value, use the return statement:</li>\n",
    "</ul> "
   ]
  },
  {
   "cell_type": "code",
   "execution_count": 9,
   "metadata": {},
   "outputs": [
    {
     "name": "stdout",
     "output_type": "stream",
     "text": [
      "15\n"
     ]
    }
   ],
   "source": [
    "def my_function(x):\n",
    "    return 5 * x\n",
    "print(my_function(3))"
   ]
  },
  {
   "cell_type": "markdown",
   "metadata": {},
   "source": [
    "<ul>\n",
    "<li>Passing a default value while initiation</li>\n",
    "</ul> "
   ]
  },
  {
   "cell_type": "code",
   "execution_count": 10,
   "metadata": {},
   "outputs": [
    {
     "name": "stdout",
     "output_type": "stream",
     "text": [
      "Captain for CSK is Dhoni\n"
     ]
    }
   ],
   "source": [
    "def csk(fname = 'Dhoni'):\n",
    "    print('Captain for CSK is ' + fname)\n",
    "csk()"
   ]
  },
  {
   "cell_type": "markdown",
   "metadata": {},
   "source": [
    "# Exercise:\n",
    "\n",
    "<b>1)Create a function getting two integer inputs from user. & print the following:</b>\n",
    "\n",
    "<pre>Addi|tion of two numbers is +value\n",
    "Subtraction of two numbers is +value\n",
    "Division of two numbers is +value\n",
    "Multiplication of two numbers is +value</pre>\n",
    "\n",
    "<p>Here the <b>value</b> represents math function associated</p>"
   ]
  },
  {
   "cell_type": "code",
   "execution_count": 11,
   "metadata": {},
   "outputs": [
    {
     "name": "stdout",
     "output_type": "stream",
     "text": [
      "121\n",
      "11\n",
      "Addition of two numbers is 132\n",
      "Subtraction of two numbers is 110\n",
      "Division of two numbers is 11.0\n",
      "Multiplication of two numbers is 1331\n"
     ]
    }
   ],
   "source": [
    "x = int(input())\n",
    "y = int(input())\n",
    "\n",
    "def add(x,y):\n",
    "    return x + y\n",
    "\n",
    "def subtract(x,y):\n",
    "    return x - y\n",
    "\n",
    "def divide(x,y):\n",
    "    return x / y\n",
    "\n",
    "def multiply(x,y):\n",
    "    return x * y\n",
    "\n",
    "print('Addition of two numbers is', add(x,y))\n",
    "print('Subtraction of two numbers is', subtract(x,y))\n",
    "print('Division of two numbers is', divide(x,y))\n",
    "print('Multiplication of two numbers is', multiply(x,y))"
   ]
  },
  {
   "cell_type": "markdown",
   "metadata": {},
   "source": [
    "<b>2. Create a function covid( ) & it should accept patient name, and body temperature, by default the body temperature should be 98 degree</b>"
   ]
  },
  {
   "cell_type": "code",
   "execution_count": 12,
   "metadata": {},
   "outputs": [
    {
     "name": "stdout",
     "output_type": "stream",
     "text": [
      "Enter Patient Name : Yuvanandhini\n",
      "Enter Body Temperature : 98\n",
      "Stay home, stay safe!\n"
     ]
    }
   ],
   "source": [
    "patient_name = str(input('Enter Patient Name : '))\n",
    "body_temperature = int(input('Enter Body Temperature : '))\n",
    "\n",
    "def covid(patient_name, body_temperature = 98):\n",
    "    if body_temperature != 98:\n",
    "        print('Covid 19 Positive')\n",
    "    else:\n",
    "        print('Stay home, stay safe!')\n",
    "        \n",
    "covid(patient_name, body_temperature)"
   ]
  },
  {
   "cell_type": "markdown",
   "metadata": {},
   "source": [
    "##### <hr />\n",
    "\n",
    "# The End\n",
    "\n",
    "<p>I've successfully completed Day 5's notes & exercises</p>\n",
    "\n",
    "<hr />\n",
    "\n",
    "# THANK YOU!\n",
    "\n",
    "<p>Check Out My Repository At <a href=\"https://github.com/Yuvanandhini-R/BestEnlist-Python-Internship\">https://github.com/Yuvanandhini-R/BestEnlist-Python-Internship</a></p>\n",
    "\n",
    "<p>Check Out My LinkedIn Page At <a href=\"https://www.linkedin.com/in/yuvanandhini-t-r-5384901a4/\">https://www.linkedin.com/in/yuvanandhini-t-r-5384901a4/</a></p>"
   ]
  }
 ],
 "metadata": {
  "kernelspec": {
   "display_name": "Python 3",
   "language": "python",
   "name": "python3"
  },
  "language_info": {
   "codemirror_mode": {
    "name": "ipython",
    "version": 3
   },
   "file_extension": ".py",
   "mimetype": "text/x-python",
   "name": "python",
   "nbconvert_exporter": "python",
   "pygments_lexer": "ipython3",
   "version": "3.8.5"
  }
 },
 "nbformat": 4,
 "nbformat_minor": 4
}
