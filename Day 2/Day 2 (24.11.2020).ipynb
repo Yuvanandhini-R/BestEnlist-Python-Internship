{
 "cells": [
  {
   "cell_type": "markdown",
   "metadata": {},
   "source": [
    "\n",
    "<img src=\"http://bestenlist.co.in/img/logo2.png\" alt=\"BestEnlist Logo\" style=\"height:100px\">\n",
    "<img src=\"https://www.python.org/static/img/python-logo.png\" alt=\"Python Logo\" style=\"height:100px\">\n",
    "<img src=\"https://jupyter.org/assets/nav_logo.svg\" alt=\"Jupyter Notebook Logo\" style=\"height:100px\">\n",
    "\n",
    "<hr />\n",
    "\n",
    "# Day 2 – VARIABLES & DATA TYPES\n",
    "\n",
    "<b>Variables</b>\n",
    "\n",
    "<p> A variable is initially declared to have a specific data type, and any value assigned to it during its lifetime must always have that type, a variable may be assigned a value of one type and then later re-assigned a value of a different type </p>"
   ]
  },
  {
   "cell_type": "code",
   "execution_count": 1,
   "metadata": {},
   "outputs": [
    {
     "name": "stdout",
     "output_type": "stream",
     "text": [
      "2\n"
     ]
    }
   ],
   "source": [
    "number_of_wheels = 2\n",
    "print(number_of_wheels)"
   ]
  },
  {
   "cell_type": "markdown",
   "metadata": {},
   "source": [
    "<p>Variables can store data of different types which has the capability to do different things.</p>"
   ]
  },
  {
   "cell_type": "markdown",
   "metadata": {},
   "source": [
    "<p><b>Text Type:\tstr</b><p>\n",
    "<p><b>Numeric Types:\tint, float, complex</b><p>\n",
    "<p><b>Sequence Types:\tlist, tuple, range</b><p>\n",
    "<p><b>Mapping Type:\tdict</b><p>\n",
    "<p><b>Set Types:\tset, frozenset</b><p>\n",
    "<p><b>Boolean Type:\tbool</b><p>"
   ]
  },
  {
   "cell_type": "markdown",
   "metadata": {},
   "source": [
    "<b>Intergers</b>\n",
    "\n",
    "<p>Example</p>\n",
    "\n",
    "<pre>>>>print(123123123123123123123123123123123123123123123123 + \n",
    ">>>123123123123123123123123123123123123123123123124</pre>"
   ]
  },
  {
   "cell_type": "markdown",
   "metadata": {},
   "source": [
    "<b>Floating-point numbers:</b>\n",
    "\n",
    "<p>Example</p>\n",
    "\n",
    "<pre>>>>pie = 3.14 </pre>"
   ]
  },
  {
   "cell_type": "markdown",
   "metadata": {},
   "source": [
    "<b>Complex numbers:</b>\n",
    "\n",
    "<p>Complex numbers are specified as </p>\n",
    "<p> < real part > + < imaginary part >j. </p> \n",
    "<p> For Example </p>\n",
    "\n",
    "<pre>>>>print(123123123123123123123123123123123123123123123123 + \n",
    ">>>123123123123123123123123123123123123123123123124</pre>"
   ]
  },
  {
   "cell_type": "markdown",
   "metadata": {},
   "source": [
    "<b>Strings:</b>\n",
    "\n",
    "<p>Strings are sequences of character data. The string type in Python is called str. Example: </p>"
   ]
  },
  {
   "cell_type": "code",
   "execution_count": 2,
   "metadata": {},
   "outputs": [
    {
     "name": "stdout",
     "output_type": "stream",
     "text": [
      "Atlas\n"
     ]
    }
   ],
   "source": [
    "print('Atlas')"
   ]
  },
  {
   "cell_type": "markdown",
   "metadata": {},
   "source": [
    "<b>Boolean:</b>\n",
    "\n",
    "<p>Objects of Boolean type may have one of two values True or False</p>"
   ]
  },
  {
   "cell_type": "markdown",
   "metadata": {},
   "source": [
    "<b>Assigning Values to Variables:</b>\n",
    "\n",
    "<p>Python variables do not need explicit declaration to reserve memory space. The declaration happens automatically when you assign a value to a variable. The equal sign (=) is used to assign values to variables.</p>\n"
   ]
  },
  {
   "cell_type": "code",
   "execution_count": 3,
   "metadata": {},
   "outputs": [
    {
     "name": "stdout",
     "output_type": "stream",
     "text": [
      "5\n",
      "3.14\n",
      "Dhoni\n"
     ]
    }
   ],
   "source": [
    "#!/usr/bin/python\n",
    "\n",
    "number = 5          # An integer assignment\n",
    "pie   = 3.14       # A floating point\n",
    "Player_name    = \"Dhoni\"       # A string\n",
    "\n",
    "print(number)\n",
    "print(pie)\n",
    "print(Player_name)"
   ]
  },
  {
   "cell_type": "markdown",
   "metadata": {},
   "source": [
    "<b>Multiple Assignment</b>\n",
    "\n",
    "<p>Python allows you to assign a single value to several variables simultaneously.</p>\n",
    "\n",
    "<p>For example −\n",
    "Assigning to a same value -> a = b = c = 1</p>\n",
    "\n",
    "<p>You can also assign multiple objects to multiple variables.</p>\n",
    "    \n",
    "<p>For example −\n",
    "a,b,c = 18,24,\"Kohli\"\n",
    "</p>"
   ]
  },
  {
   "cell_type": "markdown",
   "metadata": {},
   "source": [
    "<hr />\n",
    "\n",
    "# Exercise:\n",
    "\n",
    "<b> \n",
    "<p> 1) Create three variables (a,b,c) to same value of any integer & do the following </p>\n",
    "    \n",
    "<p> a)\tDivide a by 10 </p>\n",
    "    \n",
    "<p> b)\tMultiply b by 50 </p>\n",
    "    \n",
    "<p> c)\tAdd c value by 60 </p>\n",
    "</b>\n",
    "\n"
   ]
  },
  {
   "cell_type": "code",
   "execution_count": 4,
   "metadata": {},
   "outputs": [
    {
     "name": "stdout",
     "output_type": "stream",
     "text": [
      "10.0\n",
      "5000\n",
      "160\n"
     ]
    }
   ],
   "source": [
    "a = b = c = 100\n",
    "\n",
    "print(a/10)\n",
    "print(b*50)\n",
    "print(c+60)"
   ]
  },
  {
   "cell_type": "markdown",
   "metadata": {},
   "source": [
    "<b>\n",
    "    \n",
    "<p> 2) Create a String variable of 5 characters  and replace the 3rd character with G</p>\n",
    "\n",
    "</b>"
   ]
  },
  {
   "cell_type": "code",
   "execution_count": 5,
   "metadata": {},
   "outputs": [
    {
     "name": "stdout",
     "output_type": "stream",
     "text": [
      "ANGER\n"
     ]
    }
   ],
   "source": [
    "word = 'ANYER'\n",
    "word = word.replace('Y','G')\n",
    "print(word)"
   ]
  },
  {
   "cell_type": "markdown",
   "metadata": {},
   "source": [
    "<b>\n",
    "    \n",
    "<p> 3) Create two values (a,b) of int,float data type & convert the vise versa, Hint : convert a from int to float datatype & b from float to int datatype </p>\n",
    "\n",
    "</b>"
   ]
  },
  {
   "cell_type": "code",
   "execution_count": 6,
   "metadata": {},
   "outputs": [
    {
     "name": "stdout",
     "output_type": "stream",
     "text": [
      "10.0\n",
      "20\n"
     ]
    }
   ],
   "source": [
    "a, b = 10, 20.5\n",
    "print(float(a))\n",
    "print(int(b))"
   ]
  },
  {
   "cell_type": "markdown",
   "metadata": {},
   "source": [
    "<hr />\n",
    "\n",
    "# The End\n",
    "\n",
    "<p>I've successfully completed Day 2's notes & exercises</p>\n",
    "\n",
    "<hr />\n",
    "\n",
    "# THANK YOU!\n",
    "\n",
    "<p>Check Out My Repository At <a href=\"https://github.com/Yuvanandhini-R/BestEnlist-Python-Internship\">https://github.com/Yuvanandhini-R/BestEnlist-Python-Internship</a></p>\n",
    "<p>Chech Out My LinkedIn Page At <a href=\"https://www.linkedin.com/in/yuvanandhini-t-r-5384901a4/\">https://www.linkedin.com/in/yuvanandhini-t-r-5384901a4/</a></p>"
   ]
  }
 ],
 "metadata": {
  "kernelspec": {
   "display_name": "Python 3",
   "language": "python",
   "name": "python3"
  },
  "language_info": {
   "codemirror_mode": {
    "name": "ipython",
    "version": 3
   },
   "file_extension": ".py",
   "mimetype": "text/x-python",
   "name": "python",
   "nbconvert_exporter": "python",
   "pygments_lexer": "ipython3",
   "version": "3.8.5"
  }
 },
 "nbformat": 4,
 "nbformat_minor": 4
}
