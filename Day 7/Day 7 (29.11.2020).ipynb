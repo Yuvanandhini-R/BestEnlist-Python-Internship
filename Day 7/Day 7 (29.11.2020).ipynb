{
 "cells": [
  {
   "cell_type": "markdown",
   "metadata": {},
   "source": [
    "<img src=\"http://bestenlist.co.in/img/logo2.png\" alt=\"BestEnlist Logo\" style=\"height:100px\">\n",
    "<img src=\"https://www.python.org/static/img/python-logo.png\" alt=\"Python Logo\" style=\"height:100px\">\n",
    "<img src=\"https://jupyter.org/assets/nav_logo.svg\" alt=\"Jupyter Notebook Logo\" style=\"height:100px\">\n",
    "\n",
    "<hr />\n",
    "\n",
    "\n",
    "# DAY 7 - TASK"
   ]
  },
  {
   "cell_type": "markdown",
   "metadata": {},
   "source": [
    "<b>MODULES : </b>"
   ]
  },
  {
   "cell_type": "markdown",
   "metadata": {},
   "source": [
    "<ul>\n",
    "<li>Module is a set of file/function which can be included in the project</li>\n",
    "</ul>  "
   ]
  },
  {
   "cell_type": "markdown",
   "metadata": {},
   "source": [
    "<ul>\n",
    "<li>Create a .py file and save it in the location of bin</li>\n",
    "</ul>  "
   ]
  },
  {
   "cell_type": "markdown",
   "metadata": {},
   "source": [
    "<pre>\n",
    "def mymodule(var):\n",
    "    print(\"Hi \" + var)\n",
    "</pre>"
   ]
  },
  {
   "cell_type": "markdown",
   "metadata": {},
   "source": [
    "<ul>\n",
    "<li>We can use the module by importing the py file in the current python file</li>\n",
    "</ul> "
   ]
  },
  {
   "cell_type": "markdown",
   "metadata": {},
   "source": [
    "<pre>\n",
    "import mymodule\n",
    "mymodule.,mymodule(\"Dhoni\")\n",
    "</pre>"
   ]
  },
  {
   "cell_type": "markdown",
   "metadata": {},
   "source": [
    "<ul>\n",
    "<li>Modules can also contain variables in it which can be called from an another python file</li>\n",
    "</ul> "
   ]
  },
  {
   "cell_type": "markdown",
   "metadata": {},
   "source": [
    "<ul>\n",
    "<li>You can also name the module by using ‘as’</li>\n",
    "</ul> "
   ]
  },
  {
   "cell_type": "markdown",
   "metadata": {},
   "source": [
    "<pre>\n",
    "Import special as sp\n",
    "</pre>"
   ]
  },
  {
   "cell_type": "markdown",
   "metadata": {},
   "source": [
    "<ul>\n",
    "<li>There are several built-in modules in Python, which you can import whenever you like on your current python program</li>\n",
    "</ul> "
   ]
  },
  {
   "cell_type": "markdown",
   "metadata": {},
   "source": [
    "<pre>\n",
    "Import random\n",
    "Import sys\n",
    "</pre>"
   ]
  },
  {
   "cell_type": "markdown",
   "metadata": {},
   "source": [
    "<ul>\n",
    "<li>We can also take the particular function from a module.\n",
    "    \n",
    "<p>Example:</p>\n",
    "</li>\n",
    "</ul> "
   ]
  },
  {
   "cell_type": "markdown",
   "metadata": {},
   "source": [
    "<pre>\n",
    "from special import name\n",
    "</pre>"
   ]
  },
  {
   "cell_type": "markdown",
   "metadata": {},
   "source": [
    "<b>PIP : </b>"
   ]
  },
  {
   "cell_type": "markdown",
   "metadata": {},
   "source": [
    "<ul>\n",
    "<li>PIP is a package manager for Python packages, or modules</li>\n",
    "</ul> "
   ]
  },
  {
   "cell_type": "markdown",
   "metadata": {},
   "source": [
    "<ul>\n",
    "<li>We can download a package by using pip install\n",
    "</li>\n",
    "</ul>\n",
    "\n",
    "<module name>\n",
    "    \n",
    "<p>Example:</p>"
   ]
  },
  {
   "cell_type": "markdown",
   "metadata": {},
   "source": [
    "<pre>\n",
    "from special import name\n",
    "</pre>"
   ]
  },
  {
   "cell_type": "markdown",
   "metadata": {},
   "source": [
    "<ul>\n",
    "<li>Pip list command is used to list the packages present in the system</li>\n",
    "</ul> "
   ]
  },
  {
   "cell_type": "markdown",
   "metadata": {},
   "source": [
    "\n",
    "<hr />\n",
    "\n",
    "<b>Exercises : </b>"
   ]
  },
  {
   "cell_type": "markdown",
   "metadata": {},
   "source": [
    "<b>1. Create a python module with list and import the module in another .py file and change the value in list</b>"
   ]
  },
  {
   "cell_type": "code",
   "execution_count": 1,
   "metadata": {},
   "outputs": [],
   "source": [
    "import exercise_module as em"
   ]
  },
  {
   "cell_type": "code",
   "execution_count": 2,
   "metadata": {},
   "outputs": [
    {
     "name": "stdout",
     "output_type": "stream",
     "text": [
      "[1, 2, 3, 4, 5, 6]\n"
     ]
    }
   ],
   "source": [
    "print(em.my_list)"
   ]
  },
  {
   "cell_type": "code",
   "execution_count": 3,
   "metadata": {},
   "outputs": [
    {
     "name": "stdout",
     "output_type": "stream",
     "text": [
      "[0, 2, 3, 4, 5, 6]\n"
     ]
    }
   ],
   "source": [
    "em.my_list[0] = 0\n",
    "print(em.my_list)"
   ]
  },
  {
   "cell_type": "markdown",
   "metadata": {},
   "source": [
    "<b>2. Install pandas package (try to import the package in a python file)</b>"
   ]
  },
  {
   "cell_type": "code",
   "execution_count": 4,
   "metadata": {},
   "outputs": [
    {
     "name": "stdout",
     "output_type": "stream",
     "text": [
      "Requirement already satisfied: pandas in c:\\python38\\lib\\site-packages (1.1.4)\n",
      "Requirement already satisfied: python-dateutil>=2.7.3 in c:\\users\\admin\\appdata\\roaming\\python\\python38\\site-packages (from pandas) (2.8.1)\n",
      "Requirement already satisfied: numpy>=1.15.4 in c:\\python38\\lib\\site-packages (from pandas) (1.19.4)\n",
      "Requirement already satisfied: pytz>=2017.2 in c:\\python38\\lib\\site-packages (from pandas) (2020.4)\n",
      "Requirement already satisfied: six>=1.5 in c:\\users\\admin\\appdata\\roaming\\python\\python38\\site-packages (from python-dateutil>=2.7.3->pandas) (1.14.0)\n"
     ]
    },
    {
     "name": "stderr",
     "output_type": "stream",
     "text": [
      "WARNING: You are using pip version 20.1.1; however, version 20.2.4 is available.\n",
      "You should consider upgrading via the 'c:\\python38\\python.exe -m pip install --upgrade pip' command.\n"
     ]
    }
   ],
   "source": [
    "! pip3 install pandas"
   ]
  },
  {
   "cell_type": "markdown",
   "metadata": {},
   "source": [
    "import pandas"
   ]
  },
  {
   "cell_type": "markdown",
   "metadata": {},
   "source": [
    "<b>3. Import a module that picks random number and write a program to fetch a random number from 1 to  100 on every run</b>"
   ]
  },
  {
   "cell_type": "code",
   "execution_count": 5,
   "metadata": {},
   "outputs": [
    {
     "name": "stdout",
     "output_type": "stream",
     "text": [
      "23\n"
     ]
    }
   ],
   "source": [
    "from random import randint\n",
    "print(randint(1, 100))"
   ]
  },
  {
   "cell_type": "markdown",
   "metadata": {},
   "source": [
    "<b>4. Import sys package and find the python path</b>"
   ]
  },
  {
   "cell_type": "code",
   "execution_count": 6,
   "metadata": {},
   "outputs": [
    {
     "name": "stdout",
     "output_type": "stream",
     "text": [
      "C:\\Users\\Admin\\Desktop\\Yuvanandhini\\BESTENLIST Python Internship\\Day 7\n",
      "c:\\python38\\python38.zip\n",
      "c:\\python38\\DLLs\n",
      "c:\\python38\\lib\n",
      "c:\\python38\n",
      "\n",
      "C:\\Users\\Admin\\AppData\\Roaming\\Python\\Python38\\site-packages\n",
      "c:\\python38\\lib\\site-packages\n",
      "c:\\python38\\lib\\site-packages\\win32\n",
      "c:\\python38\\lib\\site-packages\\win32\\lib\n",
      "c:\\python38\\lib\\site-packages\\Pythonwin\n",
      "C:\\Users\\Admin\\AppData\\Roaming\\Python\\Python38\\site-packages\\IPython\\extensions\n",
      "C:\\Users\\Admin\\.ipython\n"
     ]
    }
   ],
   "source": [
    "import sys\n",
    "for p in sys.path:\n",
    "    print(p)"
   ]
  },
  {
   "cell_type": "markdown",
   "metadata": {},
   "source": [
    "<b>5. Try to install a package and uninstall a package using pip</b>"
   ]
  },
  {
   "cell_type": "code",
   "execution_count": null,
   "metadata": {},
   "outputs": [],
   "source": [
    "!pip3 uninstall pandas"
   ]
  },
  {
   "cell_type": "markdown",
   "metadata": {},
   "source": [
    "<hr />\n",
    "\n",
    "# The End\n",
    "\n",
    "<p>I've successfully completed Day 7's notes & exercises</p>\n",
    "\n",
    "<hr />\n",
    "\n",
    "# THANK YOU!\n",
    "\n",
    "<p>Check Out My Repository At <a href=\"https://github.com/Yuvanandhini-R/BestEnlist-Python-Internship\">https://github.com/Yuvanandhini-R/BestEnlist-Python-Internship</a></p>\n",
    "\n",
    "<p>Check Out My LinkedIn Page At <a href=\"https://www.linkedin.com/in/yuvanandhini-t-r-5384901a4/\">https://www.linkedin.com/in/yuvanandhini-t-r-5384901a4/</a></p>"
   ]
  }
 ],
 "metadata": {
  "kernelspec": {
   "display_name": "Python 3",
   "language": "python",
   "name": "python3"
  },
  "language_info": {
   "codemirror_mode": {
    "name": "ipython",
    "version": 3
   },
   "file_extension": ".py",
   "mimetype": "text/x-python",
   "name": "python",
   "nbconvert_exporter": "python",
   "pygments_lexer": "ipython3",
   "version": "3.8.5"
  }
 },
 "nbformat": 4,
 "nbformat_minor": 4
}
