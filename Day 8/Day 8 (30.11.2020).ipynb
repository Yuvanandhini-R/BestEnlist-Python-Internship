{
 "cells": [
  {
   "cell_type": "markdown",
   "metadata": {},
   "source": [
    "<img src=\"http://bestenlist.co.in/img/logo2.png\" alt=\"BestEnlist Logo\" style=\"height:100px\">\n",
    "<img src=\"https://www.python.org/static/img/python-logo.png\" alt=\"Python Logo\" style=\"height:100px\">\n",
    "<img src=\"https://jupyter.org/assets/nav_logo.svg\" alt=\"Jupyter Notebook Logo\" style=\"height:100px\">\n",
    "\n",
    "<hr />\n",
    "\n",
    "\n",
    "# DAY 8 - TASK\n",
    "\n",
    "# Exception Handling"
   ]
  },
  {
   "cell_type": "markdown",
   "metadata": {},
   "source": [
    "<p>● When an error occurs, or exception as we call it, Python will normally stop and generate an error message. These exceptions can be handled using the try statement:</p>"
   ]
  },
  {
   "cell_type": "code",
   "execution_count": 1,
   "metadata": {},
   "outputs": [],
   "source": [
    "try:\n",
    "    print(a)\n",
    "except:\n",
    "    print(\"An exception occurred\")"
   ]
  },
  {
   "cell_type": "markdown",
   "metadata": {},
   "source": [
    "<p>● If you want to execute a special block of code for a special kind of error like the if else block we can specify the error.</p>"
   ]
  },
  {
   "cell_type": "code",
   "execution_count": 2,
   "metadata": {},
   "outputs": [
    {
     "name": "stdout",
     "output_type": "stream",
     "text": [
      "player not defined\n"
     ]
    }
   ],
   "source": [
    "try:\n",
    "    print(player)\n",
    "except NameError:\n",
    "      print(\"player not defined\")\n",
    "except:\n",
    "      print(\"End of program\")"
   ]
  },
  {
   "cell_type": "markdown",
   "metadata": {},
   "source": [
    "● Use the else keyword to define a block of code to be executed if no errors were raised"
   ]
  },
  {
   "cell_type": "code",
   "execution_count": 3,
   "metadata": {},
   "outputs": [
    {
     "name": "stdout",
     "output_type": "stream",
     "text": [
      "Exception\n"
     ]
    }
   ],
   "source": [
    "try:\n",
    "    print(x)\n",
    "except:\n",
    "    print('Exception')\n",
    "else:\n",
    "    print('End of code')"
   ]
  },
  {
   "cell_type": "markdown",
   "metadata": {},
   "source": [
    "● Finally block, if specified, will be executed regardless if the try block raises an error or not"
   ]
  },
  {
   "cell_type": "code",
   "execution_count": 4,
   "metadata": {},
   "outputs": [
    {
     "name": "stdout",
     "output_type": "stream",
     "text": [
      "Something went wrong\n",
      "The 'try except' is finished\n"
     ]
    }
   ],
   "source": [
    "try:\n",
    "    print(x)\n",
    "except:\n",
    "    print(\"Something went wrong\")\n",
    "finally:\n",
    "    print(\"The 'try except' is finished\")"
   ]
  },
  {
   "cell_type": "markdown",
   "metadata": {},
   "source": [
    "<b>Raise an exception</b>\n",
    "\n",
    "<p>● As a Python developer you can choose to throw an exception if a condition occurs.</p>\n",
    "\n",
    "\n",
    "<p>● To throw (or raise) an exception, use the raise keyword.</p>\n"
   ]
  },
  {
   "cell_type": "code",
   "execution_count": 5,
   "metadata": {},
   "outputs": [
    {
     "ename": "Exception",
     "evalue": "Sorry, no numbers below zero",
     "output_type": "error",
     "traceback": [
      "\u001b[1;31m---------------------------------------------------------------------------\u001b[0m",
      "\u001b[1;31mException\u001b[0m                                 Traceback (most recent call last)",
      "\u001b[1;32m<ipython-input-5-95c31ad72c04>\u001b[0m in \u001b[0;36m<module>\u001b[1;34m\u001b[0m\n\u001b[0;32m      1\u001b[0m \u001b[0mx\u001b[0m \u001b[1;33m=\u001b[0m \u001b[1;33m-\u001b[0m\u001b[1;36m1\u001b[0m\u001b[1;33m\u001b[0m\u001b[1;33m\u001b[0m\u001b[0m\n\u001b[0;32m      2\u001b[0m \u001b[1;32mif\u001b[0m \u001b[0mx\u001b[0m \u001b[1;33m<\u001b[0m \u001b[1;36m0\u001b[0m\u001b[1;33m:\u001b[0m\u001b[1;33m\u001b[0m\u001b[1;33m\u001b[0m\u001b[0m\n\u001b[1;32m----> 3\u001b[1;33m     \u001b[1;32mraise\u001b[0m \u001b[0mException\u001b[0m\u001b[1;33m(\u001b[0m\u001b[1;34m'Sorry, no numbers below zero'\u001b[0m\u001b[1;33m)\u001b[0m\u001b[1;33m\u001b[0m\u001b[1;33m\u001b[0m\u001b[0m\n\u001b[0m",
      "\u001b[1;31mException\u001b[0m: Sorry, no numbers below zero"
     ]
    }
   ],
   "source": [
    "x = -1\n",
    "if x < 0:\n",
    "    raise Exception('Sorry, no numbers below zero')"
   ]
  },
  {
   "cell_type": "markdown",
   "metadata": {},
   "source": [
    "\n",
    "<hr />\n",
    "\n",
    "<b>Exercises : </b>"
   ]
  },
  {
   "cell_type": "markdown",
   "metadata": {},
   "source": [
    "<b>1. List down all the error types and check all the errors using a python program for all errors</b>"
   ]
  },
  {
   "cell_type": "markdown",
   "metadata": {},
   "source": [
    "ZeroDivisionError"
   ]
  },
  {
   "cell_type": "code",
   "execution_count": 6,
   "metadata": {},
   "outputs": [
    {
     "name": "stdout",
     "output_type": "stream",
     "text": [
      "Unable to Divide By Zero\n"
     ]
    }
   ],
   "source": [
    "try:\n",
    "    print(10 / 0)\n",
    "except ZeroDivisionError:\n",
    "    print(\"Unable to Divide By Zero\")"
   ]
  },
  {
   "cell_type": "markdown",
   "metadata": {},
   "source": [
    "IndexError"
   ]
  },
  {
   "cell_type": "code",
   "execution_count": 7,
   "metadata": {},
   "outputs": [
    {
     "name": "stdout",
     "output_type": "stream",
     "text": [
      "Index not found in array\n"
     ]
    }
   ],
   "source": [
    "arr = [1, 2, 3]\n",
    "\n",
    "try:\n",
    "    print(arr[3])\n",
    "except IndexError:\n",
    "    print('Index not found in array')"
   ]
  },
  {
   "cell_type": "markdown",
   "metadata": {},
   "source": [
    "KeyError"
   ]
  },
  {
   "cell_type": "code",
   "execution_count": 8,
   "metadata": {},
   "outputs": [
    {
     "name": "stdout",
     "output_type": "stream",
     "text": [
      "Key not found in dictionary\n"
     ]
    }
   ],
   "source": [
    "dicti = {\"1\" : 1, \"2\" : 2, \"3\" : 3}\n",
    "\n",
    "try:\n",
    "    print(dicti[\"4\"])\n",
    "except KeyError:\n",
    "    print('Key not found in dictionary')\n"
   ]
  },
  {
   "cell_type": "markdown",
   "metadata": {},
   "source": [
    "ModuleNotFoundError"
   ]
  },
  {
   "cell_type": "code",
   "execution_count": 9,
   "metadata": {},
   "outputs": [
    {
     "name": "stdout",
     "output_type": "stream",
     "text": [
      "Module not found\n"
     ]
    }
   ],
   "source": [
    "try:\n",
    "    import flask\n",
    "except ModuleNotFoundError:\n",
    "    print(\"Module not found\")"
   ]
  },
  {
   "cell_type": "markdown",
   "metadata": {},
   "source": [
    "<b>2. Design a simple calculator app with try and except for all use cases</b>"
   ]
  },
  {
   "cell_type": "code",
   "execution_count": 10,
   "metadata": {},
   "outputs": [
    {
     "name": "stdout",
     "output_type": "stream",
     "text": [
      "Enter your 1st input :10\n",
      "+ - x / % \n",
      "\n",
      "Choose your symbol from above :/\n",
      "Enter your 2st input :0\n",
      "Unable to Divide by Zero (0) !\n"
     ]
    }
   ],
   "source": [
    "symbols = '+ - x / % \\n'\n",
    "\n",
    "try:\n",
    "    input_one = int(input('Enter your 1st input :'))\n",
    "    print(symbols)\n",
    "    chosen_symbol = input('Choose your symbol from above :')\n",
    "    input_two = int(input('Enter your 2st input :'))\n",
    "\n",
    "    if chosen_symbol in symbols:\n",
    "        if chosen_symbol == '+':\n",
    "            print(input_one, '+', input_two, '=',input_one + input_two)\n",
    "        elif chosen_symbol == '-':\n",
    "            print(input_one, '-', input_two, '=',input_one - input_two)\n",
    "        elif chosen_symbol == 'x':\n",
    "            print(input_one, 'x', input_two, '=',input_one * input_two)\n",
    "        elif chosen_symbol == '/':\n",
    "            print(input_one, '/', input_two, '=',input_one / input_two)\n",
    "        elif chosen_symbol == '%':\n",
    "            print(input_one, '%', input_two, '=',input_one % input_two)\n",
    "except ValueError:\n",
    "    print(\"Enter Proper Numbers For Input!\")\n",
    "except ZeroDivisionError:\n",
    "    print(\"Unable to Divide by Zero (0) !\")"
   ]
  },
  {
   "cell_type": "markdown",
   "metadata": {},
   "source": [
    "<b>3. print one message if the try block raises a NameError and another for other errors</b>"
   ]
  },
  {
   "cell_type": "code",
   "execution_count": 11,
   "metadata": {},
   "outputs": [
    {
     "name": "stdout",
     "output_type": "stream",
     "text": [
      "newArr not defined\n"
     ]
    }
   ],
   "source": [
    "try:\n",
    "    print(newArr)\n",
    "except NameError:\n",
    "      print(\"newArr not defined\")\n",
    "except:\n",
    "      print(\"Unknown Error\")"
   ]
  },
  {
   "cell_type": "markdown",
   "metadata": {},
   "source": [
    "<b>4. When try-except scenario is not required?</b>"
   ]
  },
  {
   "cell_type": "markdown",
   "metadata": {},
   "source": [
    "<p>try-except scenario is not required if you are not going to have any runtime error in your python program. if there is any possibility that there might exist a runtime error, you must use a try - except scenario in order to avoid a crash, and guide the user with proper message.</p>"
   ]
  },
  {
   "cell_type": "markdown",
   "metadata": {},
   "source": [
    "<b>5. Try getting an input inside the try catch block</b>"
   ]
  },
  {
   "cell_type": "code",
   "execution_count": 12,
   "metadata": {},
   "outputs": [
    {
     "name": "stdout",
     "output_type": "stream",
     "text": [
      "Enter a number: abc\n",
      "Invalid Input\n"
     ]
    }
   ],
   "source": [
    "try:\n",
    "    num = int(input(\"Enter a number: \"))\n",
    "except ValueError:\n",
    "    print(\"Invalid Input\")"
   ]
  },
  {
   "cell_type": "markdown",
   "metadata": {},
   "source": [
    "<hr />\n",
    "\n",
    "# The End\n",
    "\n",
    "<p>I've successfully completed Day 8's notes & exercises</p>\n",
    "\n",
    "<hr />\n",
    "\n",
    "# THANK YOU!\n",
    "\n",
    "<p>Check Out My Repository At <a href=\"https://github.com/Yuvanandhini-R/BestEnlist-Python-Internship\">https://github.com/Yuvanandhini-R/BestEnlist-Python-Internship</a></p>\n",
    "\n",
    "<p>Check Out My LinkedIn Page At <a href=\"https://www.linkedin.com/in/yuvanandhini-t-r-5384901a4/\">https://www.linkedin.com/in/yuvanandhini-t-r-5384901a4/</a></p>"
   ]
  }
 ],
 "metadata": {
  "kernelspec": {
   "display_name": "Python 3",
   "language": "python",
   "name": "python3"
  },
  "language_info": {
   "codemirror_mode": {
    "name": "ipython",
    "version": 3
   },
   "file_extension": ".py",
   "mimetype": "text/x-python",
   "name": "python",
   "nbconvert_exporter": "python",
   "pygments_lexer": "ipython3",
   "version": "3.8.5"
  }
 },
 "nbformat": 4,
 "nbformat_minor": 4
}
