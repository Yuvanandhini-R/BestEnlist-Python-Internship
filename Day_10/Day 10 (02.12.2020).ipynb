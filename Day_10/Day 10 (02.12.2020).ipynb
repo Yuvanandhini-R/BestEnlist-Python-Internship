{
 "cells": [
  {
   "cell_type": "markdown",
   "metadata": {},
   "source": [
    "\n",
    "<img src=\"http://bestenlist.co.in/img/logo2.png\" alt=\"BestEnlist Logo\" style=\"height:100px\">\n",
    "\n",
    "<img src=\"https://www.python.org/static/img/python-logo.png\" alt=\"Python Logo\" style=\"height:100px\">\n",
    "\n",
    "<img src=\"https://jupyter.org/assets/nav_logo.svg\" alt=\"Jupyter Notebook Logo\" style=\"height:100px\">\n",
    "\n",
    "<hr />\n",
    "\n",
    "\n",
    "# DAY 10 - TASK\n",
    "\n",
    "# REGULAR EXPRESSION"
   ]
  },
  {
   "cell_type": "markdown",
   "metadata": {},
   "source": [
    "<p>● Python has a built-in package called re, which can be used to work with Regular Expressions.</p>"
   ]
  },
  {
   "cell_type": "markdown",
   "metadata": {},
   "source": [
    "<pre>Import re</pre>"
   ]
  },
  {
   "cell_type": "markdown",
   "metadata": {},
   "source": [
    "<p>● The re module offers a set of functions that allows us to search a string for a match:\n",
    "A Regular Expression (RegEx) is a sequence of characters that defines a search pattern. For example,\n",
    "</p>"
   ]
  },
  {
   "cell_type": "markdown",
   "metadata": {},
   "source": [
    "<pre> <p> ^b...g$ </p> </pre>"
   ]
  },
  {
   "cell_type": "markdown",
   "metadata": {},
   "source": [
    "<p>● The above code defines a RegEx pattern. The pattern is: any five letter string starting with b and ending with g.</p>"
   ]
  },
  {
   "cell_type": "markdown",
   "metadata": {},
   "source": [
    "<p>● A pattern defined using RegEx can be used to match against a string.</p>"
   ]
  },
  {
   "cell_type": "markdown",
   "metadata": {},
   "source": [
    "\n",
    "<b>re.findall()</b>\n",
    "\n",
    "<p>The <pre>re.findall()</pre> method returns a list of strings containing all matches.</p>\n",
    "\n",
    "<b>re.split()</b>\n",
    "\n",
    "<p>The <pre>re.split</pre> method splits the string where there is a match and returns a list of strings where the splits have occurred.</p>\n",
    "\n",
    "<b>re.sub()</b>\n",
    "\n",
    "<p>The syntax of re.sub() is:\n",
    "<pre>re.sub(pattern, replace, string)</pre></p>\n",
    "\n",
    "<b>re.search()</b>\n",
    "\n",
    "<p>The <pre>re.search()</pre> method takes two arguments: a pattern and a string. The method looks for the first location where the RegEx pattern produces a match with the string.</p>\n"
   ]
  },
  {
   "cell_type": "markdown",
   "metadata": {},
   "source": [
    "<b>Exercise:</b>"
   ]
  },
  {
   "cell_type": "markdown",
   "metadata": {},
   "source": [
    "<b>Write a Python program for all the cases which can check a string contains only a certain set of characters (in this case a-z, A-Z and 0-9).</b>"
   ]
  },
  {
   "cell_type": "code",
   "execution_count": 1,
   "metadata": {},
   "outputs": [
    {
     "name": "stdout",
     "output_type": "stream",
     "text": [
      "yUvA2020\n",
      "True\n"
     ]
    }
   ],
   "source": [
    "import re\n",
    "def characters(string):\n",
    "    char = re.compile(r'[^a-zA-Z0-9.]')\n",
    "    string = char.search(string)\n",
    "    return not bool(string)\n",
    "\n",
    "print(characters(input()))"
   ]
  },
  {
   "cell_type": "markdown",
   "metadata": {},
   "source": [
    "<b>Write a Python program that matches a word containing 'ab'.</b>"
   ]
  },
  {
   "cell_type": "code",
   "execution_count": 2,
   "metadata": {},
   "outputs": [
    {
     "name": "stdout",
     "output_type": "stream",
     "text": [
      "Rabbit\n",
      "Found a match!\n"
     ]
    }
   ],
   "source": [
    "import re\n",
    "def match(text):\n",
    "        pattern = '\\w*ab.\\w*'\n",
    "        if re.search(pattern,  text):\n",
    "                return 'Found a match!'\n",
    "        else:\n",
    "                return 'Not matched!'\n",
    "\n",
    "print(match(input()))"
   ]
  },
  {
   "cell_type": "markdown",
   "metadata": {},
   "source": [
    "<b>Write a Python program to check for a number at the end of a word/sentence.</b>"
   ]
  },
  {
   "cell_type": "code",
   "execution_count": 3,
   "metadata": {},
   "outputs": [
    {
     "name": "stdout",
     "output_type": "stream",
     "text": [
      "Covid19\n",
      "True\n"
     ]
    }
   ],
   "source": [
    "import re\n",
    "\n",
    "regex = re.compile(r'[0-9]$')\n",
    "print(bool(regex.search(input())))"
   ]
  },
  {
   "cell_type": "markdown",
   "metadata": {},
   "source": [
    "<b>Write a Python program to search the numbers (0-9) of length between 1 to 3 in a given string.</b>"
   ]
  },
  {
   "cell_type": "code",
   "execution_count": 4,
   "metadata": {},
   "outputs": [
    {
     "name": "stdout",
     "output_type": "stream",
     "text": [
      "Err0r 404\n",
      "0\n",
      "404\n"
     ]
    }
   ],
   "source": [
    "import re\n",
    "results = re.finditer(r\"([0-9]{1,3})\", input())\n",
    "for n in results:\n",
    "     print(n.group(0))"
   ]
  },
  {
   "cell_type": "markdown",
   "metadata": {},
   "source": [
    "<b>Write a Python program to match a string that contains only uppercase letters.</b>"
   ]
  },
  {
   "cell_type": "code",
   "execution_count": 5,
   "metadata": {},
   "outputs": [
    {
     "name": "stdout",
     "output_type": "stream",
     "text": [
      "GAME_OVER\n",
      "Found a match!\n"
     ]
    }
   ],
   "source": [
    "import re\n",
    "def match(text):\n",
    "        patterns = '^[A-Z_]*$'\n",
    "        if re.search(patterns,  text):\n",
    "                return 'Found a match!'\n",
    "        else:\n",
    "                return 'Not matched!'\n",
    "\n",
    "print(match(input()))"
   ]
  },
  {
   "cell_type": "markdown",
   "metadata": {},
   "source": [
    "<hr />\n",
    "\n",
    "# The End\n",
    "\n",
    "<p>I've successfully completed Day 10's notes & exercises</p>\n",
    "\n",
    "<hr />\n",
    "\n",
    "# THANK YOU!\n",
    "\n",
    "<p>Check Out My Repository At <a href=\"https://github.com/Yuvanandhini-R/BestEnlist-Python-Internship\">https://github.com/Yuvanandhini-R/BestEnlist-Python-Internship</a></p>\n",
    "\n",
    "<p>Check Out My LinkedIn Page At <a href=\"https://www.linkedin.com/in/yuvanandhini-t-r-5384901a4/\">https://www.linkedin.com/in/yuvanandhini-t-r-5384901a4/</a></p>"
   ]
  }
 ],
 "metadata": {
  "kernelspec": {
   "display_name": "Python 3",
   "language": "python",
   "name": "python3"
  },
  "language_info": {
   "codemirror_mode": {
    "name": "ipython",
    "version": 3
   },
   "file_extension": ".py",
   "mimetype": "text/x-python",
   "name": "python",
   "nbconvert_exporter": "python",
   "pygments_lexer": "ipython3",
   "version": "3.8.5"
  }
 },
 "nbformat": 4,
 "nbformat_minor": 4
}
