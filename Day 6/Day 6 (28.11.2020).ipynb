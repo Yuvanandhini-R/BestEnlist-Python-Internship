{
 "cells": [
  {
   "cell_type": "markdown",
   "metadata": {},
   "source": [
    "<img src=\"http://bestenlist.co.in/img/logo2.png\" alt=\"BestEnlist Logo\" style=\"height:100px\">\n",
    "<img src=\"https://www.python.org/static/img/python-logo.png\" alt=\"Python Logo\" style=\"height:100px\">\n",
    "<img src=\"https://jupyter.org/assets/nav_logo.svg\" alt=\"Jupyter Notebook Logo\" style=\"height:100px\">\n",
    "\n",
    "<hr />\n",
    "\n",
    "\n",
    "# DAY 6 - TASK"
   ]
  },
  {
   "cell_type": "markdown",
   "metadata": {},
   "source": [
    "<b>1. Write a program to loop through a list of numbers and add +2 to every value to elements in list</b>"
   ]
  },
  {
   "cell_type": "code",
   "execution_count": 1,
   "metadata": {},
   "outputs": [
    {
     "name": "stdout",
     "output_type": "stream",
     "text": [
      "2\n",
      "3\n",
      "4\n",
      "5\n",
      "6\n",
      "7\n",
      "8\n"
     ]
    }
   ],
   "source": [
    "num = [0,1,2,3,4,5,6]\n",
    "for i in num:\n",
    "    i += 2\n",
    "    print(i)"
   ]
  },
  {
   "cell_type": "markdown",
   "metadata": {},
   "source": [
    "<b>2. Write a program to get the below pattern\n",
    "<pre>54321\n",
    "4321\n",
    "321\n",
    "21\n",
    "1</pre>\n",
    "</b>"
   ]
  },
  {
   "cell_type": "code",
   "execution_count": 2,
   "metadata": {},
   "outputs": [
    {
     "name": "stdout",
     "output_type": "stream",
     "text": [
      "54321\n",
      "4321\n",
      "321\n",
      "21\n",
      "1\n"
     ]
    }
   ],
   "source": [
    "for i in reversed(range(1,6)):\n",
    "    j=i\n",
    "    while j>1:\n",
    "        print(j,end='')\n",
    "        j-=1\n",
    "    print(j)"
   ]
  },
  {
   "cell_type": "markdown",
   "metadata": {},
   "source": [
    "<b>3. Python Program to Print the Fibonacci sequence</b>"
   ]
  },
  {
   "cell_type": "code",
   "execution_count": 3,
   "metadata": {},
   "outputs": [
    {
     "name": "stdout",
     "output_type": "stream",
     "text": [
      "10\n",
      "Fibonnacci Sequence:\n",
      "0, 1, 1, 2, 3, 5, 8, 13, 21, 34, "
     ]
    }
   ],
   "source": [
    "n = int(input())\n",
    "cnt = 0\n",
    "n1 = 0\n",
    "n2 = 1\n",
    "\n",
    "if n <= 0:\n",
    "    print('Please enter a positive number')\n",
    "elif n == 1:\n",
    "    print('Fibonacci sequence upto', n, ':')\n",
    "    print(n1)\n",
    "else:\n",
    "    print('Fibonnacci Sequence:')\n",
    "    \n",
    "    while cnt < n:\n",
    "        print(n1, end =', ')\n",
    "        nth = n1 + n2\n",
    "        \n",
    "        n1 = n2\n",
    "        n2 = nth\n",
    "        cnt += 1"
   ]
  },
  {
   "cell_type": "markdown",
   "metadata": {},
   "source": [
    "<b>4. Explain Armstrong number and write a code with a function</b>"
   ]
  },
  {
   "cell_type": "code",
   "execution_count": 4,
   "metadata": {},
   "outputs": [
    {
     "name": "stdout",
     "output_type": "stream",
     "text": [
      "Enter a number: 43\n",
      "43 is not an Armstrong number\n"
     ]
    }
   ],
   "source": [
    "num = int(input(\"Enter a number: \"))  \n",
    "sums = 0  \n",
    "new = num  \n",
    "  \n",
    "while new > 0:\n",
    "    digit = new % 10\n",
    "    sums += digit ** 3\n",
    "    new //= 10\n",
    "if num == sums:\n",
    "    print(num,\"is an Armstrong number\")  \n",
    "else:\n",
    "    print(num,\"is not an Armstrong number\")  "
   ]
  },
  {
   "cell_type": "markdown",
   "metadata": {},
   "source": [
    "<b>5. Write a program to print the multiplication table of 9</b>"
   ]
  },
  {
   "cell_type": "code",
   "execution_count": 5,
   "metadata": {},
   "outputs": [
    {
     "name": "stdout",
     "output_type": "stream",
     "text": [
      "Which number of multiplication table is needed? :7\n",
      "Ranges till: \n",
      "7\n",
      "Multiplication tables of  7\n",
      "0 x 7 = 0\n",
      "1 x 7 = 7\n",
      "2 x 7 = 14\n",
      "3 x 7 = 21\n",
      "4 x 7 = 28\n",
      "5 x 7 = 35\n",
      "6 x 7 = 42\n",
      "7 x 7 = 49\n"
     ]
    }
   ],
   "source": [
    "num = int(input('Which number of multiplication table is needed? :'))\n",
    "ranges = int(input('Ranges till: \\n'))\n",
    "print('Multiplication tables of ', num)\n",
    "for i in range(0, ranges+1):\n",
    "    print(i,'x',num,'=',i*num)"
   ]
  },
  {
   "cell_type": "markdown",
   "metadata": {},
   "source": [
    "# <b>6. Check if a program is negative or positive</b>"
   ]
  },
  {
   "cell_type": "code",
   "execution_count": 6,
   "metadata": {},
   "outputs": [
    {
     "name": "stdout",
     "output_type": "stream",
     "text": [
      "Enter a number : 0\n",
      "The number is Zero\n"
     ]
    }
   ],
   "source": [
    "number = int(input('Enter a number : '))\n",
    "\n",
    "if number > 0:\n",
    "    print('The number is Positive')\n",
    "elif number < 0:\n",
    "    print('The number is negative')\n",
    "elif number == 0:\n",
    "    print('The number is Zero')"
   ]
  },
  {
   "cell_type": "markdown",
   "metadata": {},
   "source": [
    "<b>7. Write a program to convert the number of days to ages</b>"
   ]
  },
  {
   "cell_type": "code",
   "execution_count": 7,
   "metadata": {},
   "outputs": [
    {
     "name": "stdout",
     "output_type": "stream",
     "text": [
      "Enter days : 5475\n",
      "Age is :  15\n"
     ]
    }
   ],
   "source": [
    "print('Age is : ',int(input('Enter days : '))//365)"
   ]
  },
  {
   "cell_type": "markdown",
   "metadata": {},
   "source": [
    "<b>8. Solve Trigonometry problem using math function write a program to solve using math function</b>"
   ]
  },
  {
   "cell_type": "code",
   "execution_count": 8,
   "metadata": {},
   "outputs": [
    {
     "name": "stdout",
     "output_type": "stream",
     "text": [
      "Enter the value of theta (in degrees) : 45\n",
      "sin( 45.0 ) =  0.7071067811865476\n",
      "cos( 45.0 ) =  0.7071067811865476\n",
      "tan( 45.0 ) =  0.9999999999999999\n"
     ]
    }
   ],
   "source": [
    "import math\n",
    "\n",
    "theta = float(input('Enter the value of theta (in degrees) : '))\n",
    "print('sin(',theta,') = ', math.sin(math.radians(theta)))\n",
    "print('cos(',theta,') = ', math.cos(math.radians(theta)))\n",
    "print('tan(',theta,') = ', math.tan(math.radians(theta)))\n"
   ]
  },
  {
   "cell_type": "markdown",
   "metadata": {},
   "source": [
    "<b>9. Create a calculator only on a code level by using if condition (Basic arithmetic calculation)</b>"
   ]
  },
  {
   "cell_type": "code",
   "execution_count": 9,
   "metadata": {},
   "outputs": [
    {
     "name": "stdout",
     "output_type": "stream",
     "text": [
      "Enter your 1st input :100\n",
      "+ - x / % \n",
      "\n",
      "Choose your symbol from above :%\n",
      "Enter your 2st input :10\n",
      "100 % 10 = 0\n"
     ]
    }
   ],
   "source": [
    "symbols = '+ - x / % \\n'\n",
    "\n",
    "input_one = int(input('Enter your 1st input :'))\n",
    "print(symbols)\n",
    "chosen_symbol = input('Choose your symbol from above :')\n",
    "input_two = int(input('Enter your 2st input :'))\n",
    "\n",
    "if chosen_symbol in symbols:\n",
    "    if chosen_symbol == '+':\n",
    "        print(input_one, '+', input_two, '=',input_one + input_two)\n",
    "    elif chosen_symbol == '-':\n",
    "        print(input_one, '-', input_two, '=',input_one - input_two)\n",
    "    elif chosen_symbol == 'x':\n",
    "        print(input_one, 'x', input_two, '=',input_one * input_two)\n",
    "    elif chosen_symbol == '/':\n",
    "        print(input_one, '/', input_two, '=',input_one / input_two)\n",
    "    elif chosen_symbol == '%':\n",
    "        print(input_one, '%', input_two, '=',input_one % input_two)"
   ]
  },
  {
   "cell_type": "markdown",
   "metadata": {},
   "source": [
    "##### <hr />\n",
    "\n",
    "# The End\n",
    "\n",
    "<p>I've successfully completed Day 6's notes & exercises</p>\n",
    "\n",
    "<hr />\n",
    "\n",
    "# THANK YOU!\n",
    "\n",
    "<p>Check Out My Repository At <a href=\"https://github.com/Yuvanandhini-R/BestEnlist-Python-Internship\">https://github.com/Yuvanandhini-R/BestEnlist-Python-Internship</a></p>\n",
    "\n",
    "<p>Check Out My LinkedIn Page At <a href=\"https://www.linkedin.com/in/yuvanandhini-t-r-5384901a4/\">https://www.linkedin.com/in/yuvanandhini-t-r-5384901a4/</a></p>"
   ]
  }
 ],
 "metadata": {
  "kernelspec": {
   "display_name": "Python 3",
   "language": "python",
   "name": "python3"
  },
  "language_info": {
   "codemirror_mode": {
    "name": "ipython",
    "version": 3
   },
   "file_extension": ".py",
   "mimetype": "text/x-python",
   "name": "python",
   "nbconvert_exporter": "python",
   "pygments_lexer": "ipython3",
   "version": "3.8.5"
  }
 },
 "nbformat": 4,
 "nbformat_minor": 4
}
