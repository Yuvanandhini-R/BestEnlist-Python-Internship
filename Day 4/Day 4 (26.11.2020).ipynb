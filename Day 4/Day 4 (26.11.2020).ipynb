{
 "cells": [
  {
   "cell_type": "markdown",
   "metadata": {},
   "source": [
    "<img src=\"http://bestenlist.co.in/img/logo2.png\" alt=\"BestEnlist Logo\" style=\"height:100px\">\n",
    "<img src=\"https://www.python.org/static/img/python-logo.png\" alt=\"Python Logo\" style=\"height:100px\">\n",
    "<img src=\"https://jupyter.org/assets/nav_logo.svg\" alt=\"Jupyter Notebook Logo\" style=\"height:100px\">\n",
    "\n",
    "<hr />\n",
    "\n",
    "# Day 4 – USER INPUTS, LISTS\n",
    "\n",
    "# Python User Input:\n",
    "\n",
    "<ul>\n",
    "<li>The input() function allows user input</li>\n",
    "<li>You can assign the user input to a variable</li>\n",
    "</ul>    \n",
    "\n",
    "<b>Example:</b>"
   ]
  },
  {
   "cell_type": "code",
   "execution_count": 1,
   "metadata": {},
   "outputs": [
    {
     "name": "stdout",
     "output_type": "stream",
     "text": [
      "Enter your Favourite cricter:dhoni\n",
      "Your favourite cricketer is dhoni\n"
     ]
    }
   ],
   "source": [
    "x = input('Enter your Favourite cricter:')\n",
    "print('Your favourite cricketer is ' + x)"
   ]
  },
  {
   "cell_type": "markdown",
   "metadata": {},
   "source": [
    "# Python Lists:\n",
    "\n",
    "<ul>\n",
    "<li>The list type is a container that holds a number of other objects, in a given order</li>\n",
    "<li>The list type allows you to add and remove objects from the sequence.</li>\n",
    "</ul>\n",
    "\n",
    "<p>Building a list:</p>"
   ]
  },
  {
   "cell_type": "code",
   "execution_count": 2,
   "metadata": {},
   "outputs": [],
   "source": [
    "A = ['a','b','c']\n",
    "B = [1,2,3]"
   ]
  },
  {
   "cell_type": "markdown",
   "metadata": {},
   "source": [
    "<p>Accessing a list:</p>\n",
    "\n",
    "<li>The number of items in the list, L[i] returns the item at index i (the first item has index 0), and L[i:j] returns a new list, containing the objects between i and j.</li>\n",
    "<li>Index of list starts from 0</li>"
   ]
  },
  {
   "cell_type": "markdown",
   "metadata": {},
   "source": [
    "<pre>item = L[index]\n",
    "Example: second_element = A[1]\n",
    "\n",
    "seq = L[start:stop]</pre>"
   ]
  },
  {
   "cell_type": "markdown",
   "metadata": {},
   "source": [
    "Example: "
   ]
  },
  {
   "cell_type": "code",
   "execution_count": 3,
   "metadata": {},
   "outputs": [
    {
     "name": "stdout",
     "output_type": "stream",
     "text": [
      "['b']\n"
     ]
    }
   ],
   "source": [
    "print(A[1:2])"
   ]
  },
  {
   "cell_type": "markdown",
   "metadata": {},
   "source": [
    "<li>If you pass in a negative index, Python adds the length of the list to the index. L[-1] can be used to access the last item in a list. </li>\n",
    "\n",
    "<li>For normal indexing, if the resulting index is outside the list, Python raises an IndexError exception.</li>\n",
    "\n",
    "<li>You can also add items to an existing sequence. The append method adds a single item to the end of the list, the extend method adds items from another list (or any sequence) to the end, and insert inserts an item at a given index, and move the remaining items to the right. </li>"
   ]
  },
  {
   "cell_type": "markdown",
   "metadata": {},
   "source": [
    "<pre>L.append(item)\n",
    "L.extend(sequence)\n",
    "L.insert(index, item)</pre>"
   ]
  },
  {
   "cell_type": "markdown",
   "metadata": {},
   "source": [
    "<li>You can also remove items. The del statement can be used to remove an individual item, or to remove all items identified by a slice. The pop method removes an individual item and returns it, while remove searches for an item, and removes the first matching item from the list.</li>"
   ]
  },
  {
   "cell_type": "markdown",
   "metadata": {},
   "source": [
    "<pre>del L[i]\n",
    "del L[i:j]\n",
    "item = L.pop() # last item\n",
    "item = L.pop(0) # first item\n",
    "item = L.pop(index)\n",
    "L.remove(item)</pre>                                     "
   ]
  },
  {
   "cell_type": "markdown",
   "metadata": {},
   "source": [
    "<li>To get the smallest or largest item in a list, use the built-in min and max functions: </li>"
   ]
  },
  {
   "cell_type": "markdown",
   "metadata": {},
   "source": [
    "<pre>lo = min(L)\n",
    "hi = max(L)</pre>"
   ]
  },
  {
   "cell_type": "markdown",
   "metadata": {},
   "source": [
    "<li>The sort method sorts a list in place.</li>"
   ]
  },
  {
   "cell_type": "markdown",
   "metadata": {},
   "source": [
    "<pre>L.sort()</pre>"
   ]
  },
  {
   "cell_type": "markdown",
   "metadata": {},
   "source": [
    "<li>To get a sorted copy, use the built-in sorted function</li>"
   ]
  },
  {
   "cell_type": "markdown",
   "metadata": {},
   "source": [
    "<pre>out = sorted(L)</pre>"
   ]
  },
  {
   "cell_type": "markdown",
   "metadata": {},
   "source": [
    "# Python Tuples:\n",
    "\n",
    "<li>A tuple in Python is similar to a list. The difference between the two is that we cannot change the elements of a tuple once it is assigned whereas we can change the elements of a list.</li>\n",
    "\n",
    "<li>A tuple can have any number of items and they may be of different types (integer, float, list, string, etc.).</li>"
   ]
  },
  {
   "cell_type": "code",
   "execution_count": 4,
   "metadata": {},
   "outputs": [
    {
     "name": "stdout",
     "output_type": "stream",
     "text": [
      "(1, 2, 3)\n"
     ]
    }
   ],
   "source": [
    "my_tuple = (1,2,3)\n",
    "print(my_tuple)"
   ]
  },
  {
   "cell_type": "markdown",
   "metadata": {},
   "source": [
    "<li>Tuple with mixed datatypes:</li>"
   ]
  },
  {
   "cell_type": "code",
   "execution_count": 5,
   "metadata": {},
   "outputs": [
    {
     "name": "stdout",
     "output_type": "stream",
     "text": [
      "(1, 'Hello', 3.4)\n"
     ]
    }
   ],
   "source": [
    "my_tuple = (1, \"Hello\", 3.4)\n",
    "print(my_tuple)"
   ]
  },
  {
   "cell_type": "markdown",
   "metadata": {},
   "source": [
    "<li>Accessing tuple elements using indexing</li>"
   ]
  },
  {
   "cell_type": "code",
   "execution_count": 6,
   "metadata": {},
   "outputs": [
    {
     "name": "stdout",
     "output_type": "stream",
     "text": [
      "p\n"
     ]
    }
   ],
   "source": [
    "my_tuple = ('p','e','r','m','i','t')\n",
    "print(my_tuple[0])"
   ]
  },
  {
   "cell_type": "markdown",
   "metadata": {},
   "source": [
    "<li>Unlike lists, tuples are immutable ( They cannot be changed)</li>"
   ]
  },
  {
   "cell_type": "markdown",
   "metadata": {},
   "source": [
    "<b>Difference between tuple and list</b>\n",
    "\n",
    "<table>\n",
    "    <thead>\n",
    "        <tr>\n",
    "            <th>Sr. No.</th>\n",
    "            <th>List</th>\n",
    "            <th>Tuple</th>\n",
    "        </tr>\n",
    "    </thead>\n",
    "    <tbody>\n",
    "        <tr>\n",
    "            <th>1</th>\n",
    "            <th>List is mutable.</th>\n",
    "            <th>Tuple is immutable.</th>\n",
    "        </tr>\n",
    "        <tr>\n",
    "            <th>2</th>\n",
    "            <th>List iteration is slower and is time consuming.</th>\n",
    "            <th>Tuple iteration is faster.</th>\n",
    "        </tr>\n",
    "        <tr>\n",
    "            <th>3</th>\n",
    "            <th>List is useful for insertion and deletion operations.</th>\n",
    "            <th>Tuple is useful for readonly operations like accessing elements.</th>\n",
    "        </tr>\n",
    "        <tr>\n",
    "            <th>4</th>\n",
    "            <th>List consumes more memory.</th>\n",
    "            <th>Tuples consumes less memory.</th>\n",
    "        </tr>\n",
    "        <tr>\n",
    "            <th>5</th>\n",
    "            <th>List provides many in-built methods.</th>\n",
    "            <th>Tuples have less in-built methods.</th>\n",
    "        </tr>\n",
    "        <tr>\n",
    "            <th>6</th>\n",
    "            <th>List operations are more error prone.</th>\n",
    "            <th>Tuples operations are safe.</th>\n",
    "        </tr>\n",
    "    </tbody>\n",
    "</table>"
   ]
  },
  {
   "cell_type": "markdown",
   "metadata": {},
   "source": [
    "# Exercise:"
   ]
  },
  {
   "cell_type": "markdown",
   "metadata": {},
   "source": [
    "\n",
    "<b>\n",
    "    \n",
    "<p>1. Write a program to create a list of n integer values and do the following</p>\n",
    "    \n",
    "<li>Add an item in to the list (using function)</li>\n",
    "    \n",
    "<li>Delete (using function)</li>\n",
    "    \n",
    "<li>Store the largest number from the list to a variable</li>\n",
    "    \n",
    "<li>Store the Smallest number from the list to a variable</li>\n",
    "\n",
    "</b>"
   ]
  },
  {
   "cell_type": "code",
   "execution_count": 7,
   "metadata": {},
   "outputs": [
    {
     "name": "stdout",
     "output_type": "stream",
     "text": [
      "[10, 20, 30, 40, 50, 60]\n",
      "[10, 20, 30, 40, 60]\n",
      "60\n",
      "10\n"
     ]
    }
   ],
   "source": [
    "first_list = [10,20,30,40,50]\n",
    "\n",
    "first_list.insert(5,60)\n",
    "print(first_list)\n",
    "\n",
    "first_list.remove(50)\n",
    "print(first_list)\n",
    "\n",
    "lar = max(first_list)\n",
    "print(lar)\n",
    "\n",
    "small = min(first_list)\n",
    "print(small)"
   ]
  },
  {
   "cell_type": "markdown",
   "metadata": {},
   "source": [
    "<b>\n",
    "    \n",
    "<p>2) Create a tuple and print the reverse of the created tuple</p>\n",
    "\n",
    "</b>"
   ]
  },
  {
   "cell_type": "code",
   "execution_count": 8,
   "metadata": {},
   "outputs": [
    {
     "name": "stdout",
     "output_type": "stream",
     "text": [
      "('t', 'i', 'm', 'r', 'e', 'p')\n"
     ]
    }
   ],
   "source": [
    "my_tuple = ('p','e','r','m','i','t')\n",
    "print(my_tuple[::-1])"
   ]
  },
  {
   "cell_type": "markdown",
   "metadata": {},
   "source": [
    "<b>\n",
    "    \n",
    "<p>3) Create a tuple and convert tuple into list</p>\n",
    "\n",
    "</b>"
   ]
  },
  {
   "cell_type": "code",
   "execution_count": 9,
   "metadata": {},
   "outputs": [
    {
     "name": "stdout",
     "output_type": "stream",
     "text": [
      "('a', 'b', 'c')\n",
      "['a', 'b', 'c']\n"
     ]
    }
   ],
   "source": [
    "alpha = ('a', 'b', 'c')\n",
    "print(alpha)\n",
    "alpha = list(alpha)\n",
    "print(alpha)"
   ]
  },
  {
   "cell_type": "markdown",
   "metadata": {},
   "source": [
    "<hr />\n",
    "\n",
    "# The End\n",
    "\n",
    "<p>I've successfully completed Day 4's notes & exercises</p>\n",
    "\n",
    "<hr />\n",
    "\n",
    "# THANK YOU!\n",
    "\n",
    "<p>Check Out My Repository At <a href=\"https://github.com/Yuvanandhini-R/BestEnlist-Python-Internship\">https://github.com/Yuvanandhini-R/BestEnlist-Python-Internship</a></p>\n",
    "\n",
    "<p>Chech Out My LinkedIn Page At <a href=\"https://www.linkedin.com/in/yuvanandhini-t-r-5384901a4/\">https://www.linkedin.com/in/yuvanandhini-t-r-5384901a4/</a></p>"
   ]
  }
 ],
 "metadata": {
  "kernelspec": {
   "display_name": "Python 3",
   "language": "python",
   "name": "python3"
  },
  "language_info": {
   "codemirror_mode": {
    "name": "ipython",
    "version": 3
   },
   "file_extension": ".py",
   "mimetype": "text/x-python",
   "name": "python",
   "nbconvert_exporter": "python",
   "pygments_lexer": "ipython3",
   "version": "3.8.5"
  }
 },
 "nbformat": 4,
 "nbformat_minor": 4
}
