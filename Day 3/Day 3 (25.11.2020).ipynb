{
 "cells": [
  {
   "cell_type": "markdown",
   "metadata": {},
   "source": [
    "<img src=\"http://bestenlist.co.in/img/logo2.png\" alt=\"BestEnlist Logo\" style=\"height:100px\">\n",
    "<img src=\"https://www.python.org/static/img/python-logo.png\" alt=\"Python Logo\" style=\"height:100px\">\n",
    "<img src=\"https://jupyter.org/assets/nav_logo.svg\" alt=\"Jupyter Notebook Logo\" style=\"height:100px\">\n",
    "\n",
    "<hr />\n",
    "\n",
    "# Day 3 – DICTIONARY, SETS\n",
    "\n",
    "# Dictionary:\n",
    "\n",
    "<p>●\tPython provides another composite datatype called a dictionary, which is similar to a list in that it is a collection of objects.</p>\n",
    "<p>●\tA dictionary consists of a collection of key-value pairs. Each key-value pair maps the key to its associated value.</p>\n",
    "<p>●\tDictionary can be defined by enclosing a comma-separated list of key-value pairs in curly braces ({}). A colon (:) separates each key from its associated value</p>\n"
   ]
  },
  {
   "cell_type": "raw",
   "metadata": {},
   "source": [
    "dictionary = {<key>: <value>, <key>: <value>,}"
   ]
  },
  {
   "cell_type": "markdown",
   "metadata": {},
   "source": [
    "<b>Example:</b>"
   ]
  },
  {
   "cell_type": "code",
   "execution_count": 1,
   "metadata": {},
   "outputs": [],
   "source": [
    "capitals={\"Maharashtra\":\"Mumbai\", \n",
    "           \"Telangana\":\"Hyderabad\", \n",
    "           \"Tamilnadu\":\"Chennai\", \n",
    "           \"Karnataka\":\"Bengaluru\", \n",
    "           \"Bihar\":\"Patna\"}"
   ]
  },
  {
   "cell_type": "markdown",
   "metadata": {},
   "source": [
    "<p>●\tA value is retrieved from a dictionary by specifying its corresponding key in square brackets</p>"
   ]
  },
  {
   "cell_type": "markdown",
   "metadata": {},
   "source": [
    "<b>Example:</b>"
   ]
  },
  {
   "cell_type": "code",
   "execution_count": 2,
   "metadata": {},
   "outputs": [
    {
     "name": "stdout",
     "output_type": "stream",
     "text": [
      "Mumbai\n"
     ]
    }
   ],
   "source": [
    "print(capitals['Maharashtra'])"
   ]
  },
  {
   "cell_type": "markdown",
   "metadata": {},
   "source": [
    "<p>●\tAdding an entry to an existing dictionary is simply a matter of assigning a new key and value,</p>"
   ]
  },
  {
   "cell_type": "markdown",
   "metadata": {},
   "source": [
    "<b>Example:</b>"
   ]
  },
  {
   "cell_type": "code",
   "execution_count": 3,
   "metadata": {},
   "outputs": [],
   "source": [
    "capitals['Goa'] ='panaji'"
   ]
  },
  {
   "cell_type": "markdown",
   "metadata": {},
   "source": [
    "<p>●\tIf you want to update an entry, you can just assign a new value to an existing key</p>"
   ]
  },
  {
   "cell_type": "markdown",
   "metadata": {},
   "source": [
    "<b>Example:</b>"
   ]
  },
  {
   "cell_type": "code",
   "execution_count": 4,
   "metadata": {},
   "outputs": [],
   "source": [
    "capitals['Tamilnadu'] ='Madras'"
   ]
  },
  {
   "cell_type": "markdown",
   "metadata": {},
   "source": [
    "<p>●\tDelete an entry, use the del statement, specifying the key to delete</p>"
   ]
  },
  {
   "cell_type": "markdown",
   "metadata": {},
   "source": [
    "<b>Example:</b>"
   ]
  },
  {
   "cell_type": "code",
   "execution_count": 5,
   "metadata": {},
   "outputs": [],
   "source": [
    "del capitals['Maharashtra']"
   ]
  },
  {
   "cell_type": "markdown",
   "metadata": {},
   "source": [
    "<p>●\tThere is no restrictions on dictionary values.A dictionary value can be any type of object Python supports, including mutable types like lists and dictionaries, and user-defined objects</p>\n",
    "<p>●\tA given key can appear in a dictionary only once. Duplicate keys are not allowed</p>\n",
    "<p>●\tDictionary key must be of a type that is immutable. A tuple can also be a dictionary key, because tuples are immutable</p>"
   ]
  },
  {
   "cell_type": "markdown",
   "metadata": {},
   "source": [
    "<b>Method  -  Description</b>\n",
    "\n",
    "<p>clear()\t             Removes all the elements from the dictionary</p>\n",
    "\n",
    "<p>copy()\t             Returns a copy of the dictionary</p>\n",
    "\n",
    "<p>fromkeys()\t         Returns a dictionary with the specified keys and                                value</p>\n",
    "\n",
    "<p>get()\t             Returns the value of the specified key</p>\n",
    "\n",
    "<p>items()\t             Returns a list containing a tuple for each key                                  value pair</p>\n",
    "\n",
    "<p>keys()\t             Returns a list containing the dictionary's keys</p>\n",
    "\n",
    "<p>pop()\t             Removes the element with the specified key</p>\n",
    "\n",
    "<p>popitem()\t         Removes the last inserted key-value pair</p>\n",
    "\n",
    "<p>setdefault()\t     Returns the value of the specified key. If the key does not           \n",
    "exist: insert the key, with the specified value</p>\n",
    "\n",
    "<p>update()\t         Updates the dictionary with the specified key-value pairs</p>\n",
    "\n",
    "<p>values()\t         Returns a list of all the values in the dictionary</p>\n"
   ]
  },
  {
   "cell_type": "markdown",
   "metadata": {},
   "source": [
    "# Sets:\n",
    "\n",
    "<p>●\tA set is a collection which is unordered and unindexed. In Python, sets are written with curly brackets.</p>\n",
    "\n",
    "Example: CSK = {\"dhoni\", \"bravo\", \"jadeja\"}\n",
    "\n",
    "<p>●\tSet cannot access items in a set by referring to an index or a key.</p>\n",
    "\n",
    "<p>●\tTo add one item to a set use the add() method& To add more than one item to a set use the update() method.</p>\n",
    "\n",
    "<p>●\tRemove an item in a set, use the remove(), or the discard() method.</p>\n"
   ]
  },
  {
   "cell_type": "markdown",
   "metadata": {},
   "source": [
    "# Exercise:\n",
    "\n",
    "<b>1)   Write a Python script to merge two Python dictionaries</b>"
   ]
  },
  {
   "cell_type": "code",
   "execution_count": 6,
   "metadata": {},
   "outputs": [
    {
     "name": "stdout",
     "output_type": "stream",
     "text": [
      "{'a': 10, 'b': 20, 'c': 30, 'd': 40}\n"
     ]
    }
   ],
   "source": [
    "d1 = {'a': 10, 'b': 20}\n",
    "d2 = {'c': 30, 'd': 40}\n",
    "d1.update(d2)\n",
    "print(d1)"
   ]
  },
  {
   "cell_type": "markdown",
   "metadata": {},
   "source": [
    "<b>2)\tWrite a Python program to remove a key from a dictionary</b>"
   ]
  },
  {
   "cell_type": "code",
   "execution_count": 7,
   "metadata": {},
   "outputs": [
    {
     "name": "stdout",
     "output_type": "stream",
     "text": [
      "{'a': 10, 'b': 20, 'c': 30, 'd': 40}\n",
      "{'a': 10, 'c': 30, 'd': 40}\n"
     ]
    }
   ],
   "source": [
    "print(d1)\n",
    "if 'b' in d1: \n",
    "    del d1['b']\n",
    "print(d1)"
   ]
  },
  {
   "cell_type": "markdown",
   "metadata": {},
   "source": [
    "<b>3)\tWrite a Python program to map two lists into a dictionary</b>"
   ]
  },
  {
   "cell_type": "code",
   "execution_count": 8,
   "metadata": {},
   "outputs": [
    {
     "name": "stdout",
     "output_type": "stream",
     "text": [
      "{'Meenu': '16', 'Giri': '24', 'Renu': '32'}\n"
     ]
    }
   ],
   "source": [
    "names = ['Meenu', 'Giri', 'Renu'] #keys\n",
    "age = ['16','24', '32'] #values\n",
    "data = dict(zip(names, age)) #dictionary\n",
    "print(data)"
   ]
  },
  {
   "cell_type": "markdown",
   "metadata": {},
   "source": [
    "<b>4)\tWrite a Python program to find the length of a set</b>"
   ]
  },
  {
   "cell_type": "code",
   "execution_count": 9,
   "metadata": {},
   "outputs": [
    {
     "name": "stdout",
     "output_type": "stream",
     "text": [
      "7\n"
     ]
    }
   ],
   "source": [
    "set_one = set([5, 10, 15, 20, 25, 30, 35])\n",
    "print(len(set_one))"
   ]
  },
  {
   "cell_type": "markdown",
   "metadata": {},
   "source": [
    "<b>5)\tWrite a Python program to remove the intersection of a 2nd set from the 1st set</b>"
   ]
  },
  {
   "cell_type": "code",
   "execution_count": 10,
   "metadata": {},
   "outputs": [
    {
     "name": "stdout",
     "output_type": "stream",
     "text": [
      "set_one : {35, 5, 10, 15, 20, 25, 30}\n",
      "set_two : {5, 40, 10, 45, 15, 50, 55}\n",
      "Method 1: Removed set_two elements from set_one : {35, 20, 25, 30}\n",
      "Method 2: Removed set_two elements from set_one : {25, 35, 20, 30}\n"
     ]
    }
   ],
   "source": [
    "set_one = set([5, 10, 15, 20, 25, 30, 35])\n",
    "set_two = set([5, 10, 15, 40, 45, 50, 55])\n",
    "\n",
    "print('set_one :',set_one)\n",
    "print('set_two :',set_two)\n",
    "\n",
    "#method 1\n",
    "set_one.difference_update(set_two)\n",
    "print('Method 1: Removed set_two elements from set_one :',set_one)\n",
    "\n",
    "#method 2\n",
    "print('Method 2: Removed set_two elements from set_one :',set_one - set_two)"
   ]
  },
  {
   "cell_type": "markdown",
   "metadata": {},
   "source": [
    "<hr />\n",
    "\n",
    "# The End\n",
    "\n",
    "<p>I've successfully completed Day 3's notes & exercises</p>\n",
    "\n",
    "<hr />\n",
    "\n",
    "# THANK YOU!\n",
    "\n",
    "<p>Check Out My Repository At <a href=\"https://github.com/Yuvanandhini-R/BestEnlist-Python-Internship\">https://github.com/Yuvanandhini-R/BestEnlist-Python-Internship</a></p>\n",
    "\n",
    "<p>Chech Out My LinkedIn Page At <a href=\"https://www.linkedin.com/in/yuvanandhini-t-r-5384901a4/\">https://www.linkedin.com/in/yuvanandhini-t-r-5384901a4/</a></p>\n"
   ]
  }
 ],
 "metadata": {
  "kernelspec": {
   "display_name": "Python 3",
   "language": "python",
   "name": "python3"
  },
  "language_info": {
   "codemirror_mode": {
    "name": "ipython",
    "version": 3
   },
   "file_extension": ".py",
   "mimetype": "text/x-python",
   "name": "python",
   "nbconvert_exporter": "python",
   "pygments_lexer": "ipython3",
   "version": "3.8.5"
  }
 },
 "nbformat": 4,
 "nbformat_minor": 4
}
